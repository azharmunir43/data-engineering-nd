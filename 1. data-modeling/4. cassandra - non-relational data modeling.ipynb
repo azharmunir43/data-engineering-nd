{
 "cells": [
  {
   "cell_type": "code",
   "execution_count": 1,
   "metadata": {},
   "outputs": [],
   "source": [
    "import cassandra\n",
    "from cassandra.cluster import Cluster, ConnectionException"
   ]
  },
  {
   "cell_type": "code",
   "execution_count": 2,
   "metadata": {},
   "outputs": [],
   "source": [
    "nodes = ['127.0.0.1'] # list of cluster devices"
   ]
  },
  {
   "cell_type": "code",
   "execution_count": 3,
   "metadata": {},
   "outputs": [],
   "source": [
    "cluster = Cluster(nodes)"
   ]
  },
  {
   "cell_type": "code",
   "execution_count": 4,
   "metadata": {},
   "outputs": [],
   "source": [
    "keyspace = 'employees'"
   ]
  },
  {
   "cell_type": "code",
   "execution_count": 5,
   "metadata": {},
   "outputs": [],
   "source": [
    "def getClusterSession(cluster):\n",
    "    try:        \n",
    "        session = cluster.connect()\n",
    "        \n",
    "        print('Connection established successfully.')\n",
    "        return session\n",
    "        \n",
    "    except(ConnectionException, Exception) as exception :\n",
    "        print (\"Error while connecting to Cassandra Cluster\\n\", exception)\n",
    "        \n",
    "\n",
    "def closeSession(session):\n",
    "    #closing database connection.\n",
    "    if(session):\n",
    "        session.shutdown()\n",
    "        print(\"Cassandra connection is closed\")"
   ]
  },
  {
   "cell_type": "code",
   "execution_count": 6,
   "metadata": {},
   "outputs": [],
   "source": [
    "# test connectivity to cluster\n",
    "\n",
    "# session = getClusterSession(cluster)\n",
    "# closeSession(session)"
   ]
  },
  {
   "cell_type": "code",
   "execution_count": 7,
   "metadata": {},
   "outputs": [],
   "source": [
    "def executeCommand(cluster, keyspace='', command='', data = ()):\n",
    "    \n",
    "    \"\"\"\n",
    "        a multipurpose helper method to execute command on cassandra db\n",
    "    \"\"\"\n",
    "    \n",
    "    session = getClusterSession(cluster)\n",
    "    \n",
    "    if keyspace != '':\n",
    "        session.set_keyspace(keyspace)\n",
    "        \n",
    "    try:\n",
    "        if data:\n",
    "            result = session.execute(command, data)\n",
    "        else:\n",
    "            result = session.execute(command)\n",
    "            \n",
    "        print('Command executed successfully.' + command)\n",
    "        \n",
    "    except(Exception) as error :\n",
    "        print (\"Error while executing command..\" + command[:15], error)\n",
    "    finally:\n",
    "        closeSession(session)\n",
    "    return result"
   ]
  },
  {
   "cell_type": "code",
   "execution_count": 8,
   "metadata": {},
   "outputs": [
    {
     "name": "stdout",
     "output_type": "stream",
     "text": [
      "Connection established successfully.\n",
      "Command executed successfully.CREATE KEYSPACE IF NOT EXISTS employees \n",
      "             WITH REPLICATION = {'class': 'SimpleStrategy', 'replication_factor' : 1}\n",
      "            \n",
      "Cassandra connection is closed\n",
      "<cassandra.cluster.ResultSet object at 0x0000027B3D8803C8>\n"
     ]
    }
   ],
   "source": [
    "command = '''CREATE KEYSPACE IF NOT EXISTS ''' + keyspace + ''' \n",
    "             WITH REPLICATION = {'class': 'SimpleStrategy', 'replication_factor' : 1}\n",
    "            '''\n",
    "res = executeCommand(cluster, command=command)\n",
    "print(res)"
   ]
  },
  {
   "cell_type": "markdown",
   "metadata": {},
   "source": [
    "Perfect, so let's say business need to access data on following two criterias: -\n",
    "\n",
    "* Fetch all the employees given an joining year\n",
    "* Fetch all the employees that report to given manager\n",
    "\n",
    "In Apache Cassadra, we will explicitly have to model both queries."
   ]
  },
  {
   "cell_type": "code",
   "execution_count": 9,
   "metadata": {},
   "outputs": [
    {
     "name": "stdout",
     "output_type": "stream",
     "text": [
      "Connection established successfully.\n",
      "Command executed successfully.\n",
      "        CREATE TABLE IF NOT EXISTS EmployeeJoinYear(\n",
      "            EmployeeID INT,\n",
      "            EmployeeName TEXT,\n",
      "            ManagerID INT,\n",
      "            YearJoined INT,\n",
      "            PRIMARY KEY(YearJoined, EmployeeID)\n",
      "            );\n",
      "Cassandra connection is closed\n"
     ]
    },
    {
     "data": {
      "text/plain": [
       "<cassandra.cluster.ResultSet at 0x27b3d87d940>"
      ]
     },
     "execution_count": 9,
     "metadata": {},
     "output_type": "execute_result"
    }
   ],
   "source": [
    "cmd = '''\n",
    "        CREATE TABLE IF NOT EXISTS EmployeeJoinYear(\n",
    "            EmployeeID INT,\n",
    "            EmployeeName TEXT,\n",
    "            ManagerID INT,\n",
    "            YearJoined INT,\n",
    "            PRIMARY KEY(YearJoined, EmployeeID)\n",
    "            );'''\n",
    "\n",
    "executeCommand(cluster, keyspace, command = cmd)"
   ]
  },
  {
   "cell_type": "code",
   "execution_count": 10,
   "metadata": {},
   "outputs": [
    {
     "name": "stdout",
     "output_type": "stream",
     "text": [
      "Connection established successfully.\n",
      "Command executed successfully.INSERT INTO EmployeeJoinYear (EmployeeID, EmployeeName, YearJoined, ManagerID) VALUES (%s, %s, %s, %s)\n",
      "Cassandra connection is closed\n",
      "-----------------------------------\n",
      "Connection established successfully.\n",
      "Command executed successfully.INSERT INTO EmployeeJoinYear (EmployeeID, EmployeeName, YearJoined, ManagerID) VALUES (%s, %s, %s, %s)\n",
      "Cassandra connection is closed\n",
      "-----------------------------------\n",
      "Connection established successfully.\n",
      "Command executed successfully.INSERT INTO EmployeeJoinYear (EmployeeID, EmployeeName, YearJoined, ManagerID) VALUES (%s, %s, %s, %s)\n",
      "Cassandra connection is closed\n",
      "-----------------------------------\n",
      "Connection established successfully.\n",
      "Command executed successfully.INSERT INTO EmployeeJoinYear (EmployeeID, EmployeeName, YearJoined, ManagerID) VALUES (%s, %s, %s, %s)\n",
      "Cassandra connection is closed\n",
      "-----------------------------------\n",
      "Connection established successfully.\n",
      "Command executed successfully.INSERT INTO EmployeeJoinYear (EmployeeID, EmployeeName, YearJoined, ManagerID) VALUES (%s, %s, %s, %s)\n",
      "Cassandra connection is closed\n",
      "-----------------------------------\n"
     ]
    }
   ],
   "source": [
    "cmd = 'INSERT INTO EmployeeJoinYear (EmployeeID, EmployeeName, YearJoined, ManagerID) VALUES (%s, %s, %s, %s)'\n",
    "\n",
    "records = [(1, 'A', 2013, None), (2, 'B', 2013, None), (3, 'C', 2014, None),(4, 'D', 2014, None), (5, 'E', 2015, None)]\n",
    "\n",
    "for record in records:\n",
    "    executeCommand(cluster, keyspace, command=cmd, data=record)\n",
    "    print('-'*35)"
   ]
  },
  {
   "cell_type": "code",
   "execution_count": null,
   "metadata": {},
   "outputs": [],
   "source": [
    "# insertEmployee(cluster, 'employees', (1, 'Ali', 2013, None))\n",
    "# insertEmployee(cluster, 'employees', (2, 'Khan', 2009, None))"
   ]
  },
  {
   "cell_type": "code",
   "execution_count": 12,
   "metadata": {},
   "outputs": [
    {
     "name": "stdout",
     "output_type": "stream",
     "text": [
      "Connection established successfully.\n",
      "Command executed successfully.SELECT * FROM EmployeeJoinYear WHERE YearJoined = %s;\n",
      "Cassandra connection is closed\n",
      "Row(yearjoined=2013, employeeid=1, employeename='A', managerid=None)\n",
      "Row(yearjoined=2013, employeeid=2, employeename='B', managerid=None)\n"
     ]
    }
   ],
   "source": [
    "cmd = 'SELECT * FROM EmployeeJoinYear WHERE YearJoined = %s;'\n",
    "\n",
    "year = (2013,)\n",
    "\n",
    "res = executeCommand(cluster, keyspace, command=cmd, data=year)\n",
    "\n",
    "for row in res:\n",
    "    print(row)"
   ]
  },
  {
   "cell_type": "code",
   "execution_count": 13,
   "metadata": {},
   "outputs": [
    {
     "name": "stdout",
     "output_type": "stream",
     "text": [
      "Connection established successfully.\n",
      "Command executed successfully.DROP KEYSPACE employees\n",
      "Cassandra connection is closed\n"
     ]
    },
    {
     "data": {
      "text/plain": [
       "<cassandra.cluster.ResultSet at 0x27b3e7def28>"
      ]
     },
     "execution_count": 13,
     "metadata": {},
     "output_type": "execute_result"
    }
   ],
   "source": [
    "cmd = '''DROP KEYSPACE employees'''\n",
    "\n",
    "executeCommand(cluster, command = cmd)"
   ]
  },
  {
   "cell_type": "code",
   "execution_count": 14,
   "metadata": {},
   "outputs": [],
   "source": [
    "cluster.shutdown()"
   ]
  },
  {
   "cell_type": "code",
   "execution_count": null,
   "metadata": {},
   "outputs": [],
   "source": []
  }
 ],
 "metadata": {
  "kernelspec": {
   "display_name": "Python 3",
   "language": "python",
   "name": "python3"
  },
  "language_info": {
   "codemirror_mode": {
    "name": "ipython",
    "version": 3
   },
   "file_extension": ".py",
   "mimetype": "text/x-python",
   "name": "python",
   "nbconvert_exporter": "python",
   "pygments_lexer": "ipython3",
   "version": "3.6.8"
  }
 },
 "nbformat": 4,
 "nbformat_minor": 2
}
