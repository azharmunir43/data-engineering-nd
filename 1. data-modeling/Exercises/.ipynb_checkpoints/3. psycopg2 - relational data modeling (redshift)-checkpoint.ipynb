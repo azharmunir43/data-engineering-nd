{
 "cells": [
  {
   "cell_type": "code",
   "execution_count": 1,
   "metadata": {},
   "outputs": [],
   "source": [
    "import psycopg2"
   ]
  },
  {
   "cell_type": "code",
   "execution_count": 2,
   "metadata": {},
   "outputs": [],
   "source": [
    "conString = {'user':\"\", \"password\":\"\", \n",
    "             'host':\"\", \n",
    "             'port':\"5439\", \n",
    "             'database':\"dev\"}"
   ]
  },
  {
   "cell_type": "code",
   "execution_count": 3,
   "metadata": {},
   "outputs": [],
   "source": [
    "def getDBConnection(conString):\n",
    "    try:\n",
    "        connection = psycopg2.connect(user = conString['user'], \n",
    "                                      password = conString['password'],\n",
    "                                      host = conString['host'], \n",
    "                                      port = conString['port'], \n",
    "                                      database = conString['database'])\n",
    "        \n",
    "        connection.set_session(autocommit=True)\n",
    "        \n",
    "        print('Connection established successfully.')\n",
    "        return connection\n",
    "        \n",
    "    except(Exception, psycopg2.Error) as error :\n",
    "        print (\"Error while connecting to PostgreSQL\", error)\n",
    "            \n",
    "\n",
    "def closeConnection(conn):\n",
    "    #closing database connection.\n",
    "    if(conn):\n",
    "        conn.close()\n",
    "        print(\"PostgreSQL connection is closed\")"
   ]
  },
  {
   "cell_type": "code",
   "execution_count": 9,
   "metadata": {},
   "outputs": [],
   "source": [
    "def createEmployeeTable(conString):\n",
    "    # Redshift doesn't support serial, PK etc.\n",
    "    command = '''\n",
    "                CREATE TABLE IF NOT EXISTS Employee(\n",
    "                    EmployeeID int,\n",
    "                    EmployeeName varchar(50) NOT NULL,\n",
    "                    ManagerID int\n",
    "                );'''\n",
    "    conn = getDBConnection(conString)\n",
    "    cursor = conn.cursor()\n",
    "    \n",
    "    try:\n",
    "        cursor.execute(command)\n",
    "        print('Table Successfully Created.')\n",
    "        \n",
    "    except(Exception, psycopg2.Error) as error :\n",
    "        print (\"Error while creating table.\", error)\n",
    "    finally:\n",
    "        cursor.close()\n",
    "        closeConnection(conn)\n",
    "    "
   ]
  },
  {
   "cell_type": "code",
   "execution_count": 10,
   "metadata": {},
   "outputs": [
    {
     "name": "stdout",
     "output_type": "stream",
     "text": [
      "Connection established successfully.\n",
      "Table Successfully Created.\n",
      "PostgreSQL connection is closed\n"
     ]
    }
   ],
   "source": [
    "createEmployeeTable(conString)"
   ]
  },
  {
   "cell_type": "code",
   "execution_count": 11,
   "metadata": {},
   "outputs": [],
   "source": [
    "def insertEmployeeData(conString:dict, records:list):\n",
    "    command = 'INSERT INTO Employee (EmployeeName, ManagerID) VALUES (%s, %s)'\n",
    "    conn = getDBConnection(conString)\n",
    "    cursor = conn.cursor()\n",
    "    \n",
    "    try:\n",
    "        \n",
    "        cursor.executemany(command, records)\n",
    "        print(cursor.rowcount, 'records inserted successfully.')\n",
    "        \n",
    "    except(Exception, psycopg2.Error) as error :\n",
    "        print (\"Error while inserting data.\", error)\n",
    "    finally:\n",
    "        cursor.close()\n",
    "        closeConnection(conn)   \n",
    "        "
   ]
  },
  {
   "cell_type": "code",
   "execution_count": 12,
   "metadata": {},
   "outputs": [],
   "source": [
    "def retrieveEmployees(conString:dict, employeeIDs:tuple = ()):\n",
    "    conn = getDBConnection(conString)\n",
    "    \n",
    "    if employeeIDs:\n",
    "        command = 'SELECT * FROM Employee WHERE EmployeeID in %s ORDER BY EmployeeID ASC;'\n",
    "        cursor = conn.cursor()\n",
    "        try:\n",
    "            \n",
    "            cursor.execute(command, (employeeIDs,))\n",
    "            \n",
    "            employees_ = cursor.fetchall()\n",
    "            \n",
    "            return employees_\n",
    "        \n",
    "        except(Exception, psycopg2.Error) as error:\n",
    "            print (\"Unable to retrieve data. \", error)\n",
    "        finally:\n",
    "            cursor.close()\n",
    "            closeConnection(conn)\n",
    "    else:\n",
    "        \n",
    "        command = 'SELECT * FROM Employee ORDER BY EmployeeID ASC;'\n",
    "        cursor = conn.cursor()\n",
    "        try:\n",
    "            cursor.execute(command)\n",
    "            \n",
    "            employees_ = cursor.fetchall()\n",
    "            \n",
    "            return employees_\n",
    "        \n",
    "        except(Exception, psycopg2.Error) as error:\n",
    "            print (\"Unable to retrieve data. \", error)\n",
    "        finally:\n",
    "            cursor.close()\n",
    "            closeConnection(conn)\n",
    "    "
   ]
  },
  {
   "cell_type": "code",
   "execution_count": 13,
   "metadata": {},
   "outputs": [],
   "source": [
    "def deleteEmployees(conString:dict, employeeIDs:tuple = ()):\n",
    "    conn = getDBConnection(conString)\n",
    "    \n",
    "    if employeeIDs:\n",
    "        command = 'DELETE FROM Employee WHERE EmployeeID in (%s);'\n",
    "        cursor = conn.cursor()\n",
    "        try:\n",
    "            \n",
    "            cursor.execute(command, (employeeIDs, ))\n",
    "            \n",
    "            print(cursor.rowcount, 'records removed.')\n",
    "        \n",
    "        except(Exception, psycopg2.Error) as error:\n",
    "            print (\"Unable to delete data. \", error)\n",
    "        finally:\n",
    "            cursor.close()\n",
    "            closeConnection(conn)\n",
    "    else:\n",
    "        \n",
    "        command = 'DELETE FROM Employee;'\n",
    "        cursor = conn.cursor()\n",
    "        try:\n",
    "            \n",
    "            cursor.execute(command)\n",
    "            \n",
    "            print(cursor.rowcount, 'records removed.')\n",
    "            \n",
    "        except(Exception, psycopg2.Error) as error:\n",
    "            print (\"Unable to delete data. \", error)\n",
    "        finally:\n",
    "            cursor.close()\n",
    "            closeConnection(conn)\n",
    "    "
   ]
  },
  {
   "cell_type": "code",
   "execution_count": 14,
   "metadata": {},
   "outputs": [],
   "source": [
    "def updateOrgHierarchy(conString:dict, orgHierarchy:list = []):\n",
    "    conn = getDBConnection(conString)\n",
    "    \n",
    "    command = 'UPDATE Employee SET ManagerID = %s WHERE EmployeeID = %s;'\n",
    "    cursor = conn.cursor()\n",
    "    try:\n",
    "        cursor.executemany(command, orgHierarchy)\n",
    "\n",
    "        print(cursor.rowcount, 'records updated.')\n",
    "\n",
    "    except(Exception, psycopg2.Error) as error:\n",
    "        print (\"Unable to update data. \", error)\n",
    "    finally:\n",
    "        cursor.close()\n",
    "        closeConnection(conn)\n",
    "# orgHierarchy = [(12, 19), (13, 12), (14,17), (15,12), (16,14), (17, 19), (18, 15), (20, 17), (21, 14)] # (manager, emp)\n",
    "    "
   ]
  },
  {
   "cell_type": "code",
   "execution_count": null,
   "metadata": {},
   "outputs": [],
   "source": [
    "deleteEmployees(conString)"
   ]
  },
  {
   "cell_type": "code",
   "execution_count": 15,
   "metadata": {},
   "outputs": [
    {
     "name": "stdout",
     "output_type": "stream",
     "text": [
      "Connection established successfully.\n",
      "2 records inserted successfully.\n",
      "PostgreSQL connection is closed\n"
     ]
    }
   ],
   "source": [
    "records = [('Ali', None),('Khan', None)]\n",
    "\n",
    "\n",
    "insertEmployeeData(conString, records)"
   ]
  },
  {
   "cell_type": "code",
   "execution_count": 16,
   "metadata": {},
   "outputs": [
    {
     "name": "stdout",
     "output_type": "stream",
     "text": [
      "Connection established successfully.\n",
      "PostgreSQL connection is closed\n"
     ]
    },
    {
     "data": {
      "text/plain": [
       "[(None, 'Ali', None), (None, 'Khan', None)]"
      ]
     },
     "execution_count": 16,
     "metadata": {},
     "output_type": "execute_result"
    }
   ],
   "source": [
    "retrieveEmployees(conString)"
   ]
  },
  {
   "cell_type": "code",
   "execution_count": null,
   "metadata": {},
   "outputs": [],
   "source": [
    "updateOrgHierarchy(conString, [(30, 3)])"
   ]
  },
  {
   "cell_type": "code",
   "execution_count": null,
   "metadata": {},
   "outputs": [],
   "source": [
    "retrieveEmployees(conString)"
   ]
  }
 ],
 "metadata": {
  "kernelspec": {
   "display_name": "Python 3",
   "language": "python",
   "name": "python3"
  },
  "language_info": {
   "codemirror_mode": {
    "name": "ipython",
    "version": 3
   },
   "file_extension": ".py",
   "mimetype": "text/x-python",
   "name": "python",
   "nbconvert_exporter": "python",
   "pygments_lexer": "ipython3",
   "version": "3.6.8"
  }
 },
 "nbformat": 4,
 "nbformat_minor": 2
}
