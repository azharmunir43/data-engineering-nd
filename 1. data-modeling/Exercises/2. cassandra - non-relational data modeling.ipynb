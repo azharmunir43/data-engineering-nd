{
 "cells": [
  {
   "cell_type": "code",
   "execution_count": 1,
   "metadata": {},
   "outputs": [],
   "source": [
    "import cassandra\n",
    "from cassandra.cluster import Cluster, ConnectionException"
   ]
  },
  {
   "cell_type": "code",
   "execution_count": 2,
   "metadata": {},
   "outputs": [],
   "source": [
    "nodes = ['127.0.0.1'] # list of cluster devices"
   ]
  },
  {
   "cell_type": "code",
   "execution_count": 3,
   "metadata": {},
   "outputs": [],
   "source": [
    "cluster = Cluster(nodes)"
   ]
  },
  {
   "cell_type": "code",
   "execution_count": 7,
   "metadata": {},
   "outputs": [],
   "source": [
    "def getClusterSession(cluster):\n",
    "    try:        \n",
    "        session = cluster.connect()\n",
    "        \n",
    "        print('Connection established successfully.')\n",
    "        return session\n",
    "        \n",
    "    except(ConnectionException, Exception) as exception :\n",
    "        print (\"Error while connecting to Cassandra Cluster\\n\", exception)\n",
    "            \n",
    "\n",
    "def closeSession(session):\n",
    "    #closing database connection.\n",
    "    if(session):\n",
    "        session.shutdown()\n",
    "        print(\"Cassandra connection is closed\")"
   ]
  },
  {
   "cell_type": "code",
   "execution_count": 8,
   "metadata": {},
   "outputs": [
    {
     "name": "stdout",
     "output_type": "stream",
     "text": [
      "Connection established successfully.\n",
      "Cassandra connection is closed\n"
     ]
    }
   ],
   "source": [
    "session = getClusterSession(cluster)\n",
    "closeSession(session)"
   ]
  },
  {
   "cell_type": "code",
   "execution_count": 9,
   "metadata": {},
   "outputs": [],
   "source": [
    "def createKeyspace(cluster):\n",
    "    command = '''\n",
    "                CREATE KEYSPACE IF NOT EXISTS Employees\n",
    "                WITH REPLICATION = \n",
    "                {'class': 'SimpleStrategy', 'replication_factor' : 1}\n",
    "                '''\n",
    "    session = getClusterSession(cluster)\n",
    "    \n",
    "    try:\n",
    "        \n",
    "        session.execute(command)\n",
    "        print('Keyspace Successfully Created.')\n",
    "        \n",
    "    except(Exception) as error :\n",
    "        print (\"Error while creating keyspace : \", error)\n",
    "    finally:\n",
    "        closeSession(session)"
   ]
  },
  {
   "cell_type": "code",
   "execution_count": 10,
   "metadata": {},
   "outputs": [
    {
     "name": "stdout",
     "output_type": "stream",
     "text": [
      "Connection established successfully.\n",
      "Keyspace Successfully Created.\n",
      "Cassandra connection is closed\n"
     ]
    }
   ],
   "source": [
    "createKeyspace(cluster)"
   ]
  },
  {
   "cell_type": "code",
   "execution_count": 11,
   "metadata": {},
   "outputs": [],
   "source": [
    "def createEmployeeTable(cluster, keyspace):\n",
    "    command = '''\n",
    "                CREATE TABLE IF NOT EXISTS Employee(\n",
    "                    EmployeeID INT,\n",
    "                    EmployeeName TEXT,\n",
    "                    ManagerID INT,\n",
    "                    YearJoined INT,\n",
    "                    PRIMARY KEY(YearJoined, EmployeeID)\n",
    "                );'''\n",
    "    session = getClusterSession(cluster)\n",
    "    session.set_keyspace(keyspace)\n",
    "    try:\n",
    "        \n",
    "        session.execute(command)\n",
    "        print('Table Successfully Created.')\n",
    "        \n",
    "    except(Exception) as error :\n",
    "        print (\"Error while creating table.\", error)\n",
    "    finally:\n",
    "        closeSession(session)\n",
    "    "
   ]
  },
  {
   "cell_type": "code",
   "execution_count": 12,
   "metadata": {},
   "outputs": [
    {
     "name": "stdout",
     "output_type": "stream",
     "text": [
      "Connection established successfully.\n",
      "Table Successfully Created.\n",
      "Cassandra connection is closed\n"
     ]
    }
   ],
   "source": [
    "createEmployeeTable(cluster, 'employees')"
   ]
  },
  {
   "cell_type": "code",
   "execution_count": 13,
   "metadata": {},
   "outputs": [],
   "source": [
    "def insertEmployee(cluster, keyspace, record):\n",
    "    command = 'INSERT INTO Employee (EmployeeID, EmployeeName, YearJoined, ManagerID) VALUES (%s, %s, %s, %s)'\n",
    "    \n",
    "    session = getClusterSession(cluster)\n",
    "    session.set_keyspace(keyspace)\n",
    "    \n",
    "    try:\n",
    "        \n",
    "        session.execute(command, record)\n",
    "        print('Records inserted successfully.')\n",
    "        \n",
    "    except(Exception) as error :\n",
    "        print (\"Error while inserting data.\", error)\n",
    "    finally:\n",
    "        closeSession(session)"
   ]
  },
  {
   "cell_type": "code",
   "execution_count": 16,
   "metadata": {},
   "outputs": [
    {
     "name": "stdout",
     "output_type": "stream",
     "text": [
      "Connection established successfully.\n",
      "Records inserted successfully.\n",
      "Cassandra connection is closed\n"
     ]
    }
   ],
   "source": [
    "# insertEmployee(cluster, 'employees', (1, 'Ali', 2013, None))\n",
    "# insertEmployee(cluster, 'employees', (2, 'Khan', 2009, None))"
   ]
  },
  {
   "cell_type": "code",
   "execution_count": 23,
   "metadata": {},
   "outputs": [],
   "source": [
    "def retrieveEmployees(cluster, keyspace, employeeId=''):\n",
    "    \n",
    "    session = getClusterSession(cluster)\n",
    "    session.set_keyspace(keyspace)\n",
    "    \n",
    "    if employeeId:\n",
    "        command = 'SELECT * FROM Employee WHERE EmployeeID = %s;'\n",
    "        try:\n",
    "            \n",
    "            employees_ = session.execute(command, employeeId)\n",
    "        \n",
    "            return employees_\n",
    "        \n",
    "        except(Exception) as error:\n",
    "            print (\"Unable to retrieve data. \", error)\n",
    "        finally:\n",
    "            closeSession(session)\n",
    "            \n",
    "    else:\n",
    "        \n",
    "        command = 'SELECT * FROM Employee;'\n",
    "        try:\n",
    "            employees_ = session.execute(command)\n",
    "        \n",
    "            return employees_\n",
    "        \n",
    "        except(Exception) as error:\n",
    "            print (\"Unable to retrieve data. \", error)\n",
    "        finally:\n",
    "            closeSession(session)"
   ]
  },
  {
   "cell_type": "code",
   "execution_count": 35,
   "metadata": {},
   "outputs": [
    {
     "name": "stdout",
     "output_type": "stream",
     "text": [
      "Connection established successfully.\n",
      "Cassandra connection is closed\n"
     ]
    }
   ],
   "source": [
    "rows = retrieveEmployees(cluster, 'employees')"
   ]
  },
  {
   "cell_type": "code",
   "execution_count": 36,
   "metadata": {},
   "outputs": [
    {
     "name": "stdout",
     "output_type": "stream",
     "text": [
      "2 Khan 2009\n",
      "1 Ali 2013\n"
     ]
    }
   ],
   "source": [
    "for row in rows:\n",
    "    print(row.employeeid, row.employeename, row.yearjoined)"
   ]
  },
  {
   "cell_type": "code",
   "execution_count": 37,
   "metadata": {},
   "outputs": [],
   "source": [
    "cluster.shutdown()"
   ]
  },
  {
   "cell_type": "code",
   "execution_count": null,
   "metadata": {},
   "outputs": [],
   "source": []
  }
 ],
 "metadata": {
  "kernelspec": {
   "display_name": "Python 3",
   "language": "python",
   "name": "python3"
  },
  "language_info": {
   "codemirror_mode": {
    "name": "ipython",
    "version": 3
   },
   "file_extension": ".py",
   "mimetype": "text/x-python",
   "name": "python",
   "nbconvert_exporter": "python",
   "pygments_lexer": "ipython3",
   "version": "3.6.8"
  }
 },
 "nbformat": 4,
 "nbformat_minor": 2
}
