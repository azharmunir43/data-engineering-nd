{
 "cells": [
  {
   "cell_type": "code",
   "execution_count": 1,
   "metadata": {},
   "outputs": [],
   "source": [
    "import cassandra\n",
    "from cassandra.cluster import Cluster, ConnectionException"
   ]
  },
  {
   "cell_type": "code",
   "execution_count": 2,
   "metadata": {},
   "outputs": [],
   "source": [
    "nodes = ['127.0.0.1'] # list of cluster devices"
   ]
  },
  {
   "cell_type": "code",
   "execution_count": 5,
   "metadata": {},
   "outputs": [],
   "source": [
    "def getClusterSession(nodes):\n",
    "    try:\n",
    "        cluster = Cluster(nodes)\n",
    "        \n",
    "        session = cluster.connect()\n",
    "        \n",
    "        print('Connection established successfully.')\n",
    "        return session\n",
    "        \n",
    "    except(ConnectionException, Exception) as exception :\n",
    "        print (\"Error while connecting to Cassandra Cluster\\n\", exception)\n",
    "            \n",
    "\n",
    "def closeSession(session):\n",
    "    #closing database connection.\n",
    "    if(session):\n",
    "        session.shutdown()\n",
    "        print(\"Cassandra connection is closed\")"
   ]
  },
  {
   "cell_type": "code",
   "execution_count": 6,
   "metadata": {},
   "outputs": [
    {
     "name": "stdout",
     "output_type": "stream",
     "text": [
      "Connection established successfully.\n",
      "Cassandra connection is closed\n"
     ]
    }
   ],
   "source": [
    "session = getClusterSession(nodes)\n",
    "closeSession(session)"
   ]
  },
  {
   "cell_type": "code",
   "execution_count": null,
   "metadata": {},
   "outputs": [],
   "source": [
    "def createKeyspace(conString):\n",
    "    command = '''\n",
    "                CREATE KEYSPACE IF NOT EXISTS Employees\n",
    "                WITH REPLICATION = \n",
    "                {'class': 'SimpleStrategy', 'replication_factor' : 1}\n",
    "                '''\n",
    "    conn = getDBConnection(conString)\n",
    "    cursor = conn.cursor()\n",
    "    \n",
    "    try:\n",
    "        \n",
    "        cursor.execute(command)\n",
    "        print('Table Successfully Created.')\n",
    "        \n",
    "    except(Exception, psycopg2.Error) as error :\n",
    "        print (\"Error while creating table.\", error)\n",
    "    finally:\n",
    "        cursor.close()\n",
    "        closeConnection(conn)\n",
    "    "
   ]
  },
  {
   "cell_type": "code",
   "execution_count": null,
   "metadata": {},
   "outputs": [],
   "source": [
    "def createEmployeeTable(conString):\n",
    "    command = '''\n",
    "                CREATE TABLE IF NOT EXISTS Employee(\n",
    "                    EmployeeID serial PRIMARY KEY,\n",
    "                    EmployeeName varchar(50) NOT NULL,\n",
    "                    ManagerID int,\n",
    "                    FOREIGN KEY (ManagerID) REFERENCES Employee(EmployeeID)\n",
    "                    ON DELETE SET NULL\n",
    "                );'''\n",
    "    conn = getDBConnection(conString)\n",
    "    cursor = conn.cursor()\n",
    "    \n",
    "    try:\n",
    "        \n",
    "        cursor.execute(command)\n",
    "        print('Table Successfully Created.')\n",
    "        \n",
    "    except(Exception, psycopg2.Error) as error :\n",
    "        print (\"Error while creating table.\", error)\n",
    "    finally:\n",
    "        cursor.close()\n",
    "        closeConnection(conn)\n",
    "    "
   ]
  }
 ],
 "metadata": {
  "kernelspec": {
   "display_name": "Python 3",
   "language": "python",
   "name": "python3"
  },
  "language_info": {
   "codemirror_mode": {
    "name": "ipython",
    "version": 3
   },
   "file_extension": ".py",
   "mimetype": "text/x-python",
   "name": "python",
   "nbconvert_exporter": "python",
   "pygments_lexer": "ipython3",
   "version": "3.6.8"
  }
 },
 "nbformat": 4,
 "nbformat_minor": 2
}
