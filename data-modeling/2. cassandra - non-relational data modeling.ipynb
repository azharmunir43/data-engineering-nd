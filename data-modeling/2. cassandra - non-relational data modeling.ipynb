{
 "cells": [
  {
   "cell_type": "code",
   "execution_count": 1,
   "metadata": {},
   "outputs": [],
   "source": [
    "import cassandra\n",
    "from cassandra.cluster import Cluster, ConnectionException"
   ]
  },
  {
   "cell_type": "code",
   "execution_count": 5,
   "metadata": {},
   "outputs": [],
   "source": [
    "nodes = ['127.0.0.1'] # list of cluster devices"
   ]
  },
  {
   "cell_type": "code",
   "execution_count": 6,
   "metadata": {},
   "outputs": [],
   "source": [
    "def getClusterSession(nodes):\n",
    "    try:\n",
    "        cluster = Cluster(nodes)\n",
    "        \n",
    "        session = cluster.connect()\n",
    "        \n",
    "        print('Connection established successfully.')\n",
    "        return session\n",
    "        \n",
    "    except(ConnectionException, Exception) as exception :\n",
    "        print (\"Error while connecting to Cassandra Cluster\\n\", exception)\n",
    "            \n",
    "\n",
    "def closeSession(session):\n",
    "    #closing database connection.\n",
    "    if(session):\n",
    "        session.close()\n",
    "        print(\"Cassandra connection is closed\")"
   ]
  },
  {
   "cell_type": "code",
   "execution_count": 7,
   "metadata": {},
   "outputs": [
    {
     "name": "stdout",
     "output_type": "stream",
     "text": [
      "Error while connecting to Cassandra Cluster\n",
      " ('Unable to connect to any servers', {'127.0.0.1:9042': ConnectionRefusedError(10061, \"Tried connecting to [('127.0.0.1', 9042)]. Last error: No connection could be made because the target machine actively refused it\")})\n"
     ]
    }
   ],
   "source": [
    "session = getClusterSession(nodes)\n",
    "closeSession(session)"
   ]
  },
  {
   "cell_type": "code",
   "execution_count": null,
   "metadata": {},
   "outputs": [],
   "source": []
  }
 ],
 "metadata": {
  "kernelspec": {
   "display_name": "Python 3",
   "language": "python",
   "name": "python3"
  },
  "language_info": {
   "codemirror_mode": {
    "name": "ipython",
    "version": 3
   },
   "file_extension": ".py",
   "mimetype": "text/x-python",
   "name": "python",
   "nbconvert_exporter": "python",
   "pygments_lexer": "ipython3",
   "version": "3.6.8"
  }
 },
 "nbformat": 4,
 "nbformat_minor": 2
}
